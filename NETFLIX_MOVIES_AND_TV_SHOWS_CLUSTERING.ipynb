{
  "nbformat": 4,
  "nbformat_minor": 0,
  "metadata": {
    "colab": {
      "name": "NETFLIX MOVIES AND TV SHOWS CLUSTERING.ipynb",
      "provenance": [],
      "collapsed_sections": [],
      "include_colab_link": true
    },
    "kernelspec": {
      "name": "python3",
      "display_name": "Python 3"
    },
    "language_info": {
      "name": "python"
    }
  },
  "cells": [
    {
      "cell_type": "markdown",
      "metadata": {
        "id": "view-in-github",
        "colab_type": "text"
      },
      "source": [
        "<a href=\"https://colab.research.google.com/github/Rohan20202/NETFLIX-MOVIES-AND-TV-SHOWS-CLUSTERING/blob/main/NETFLIX_MOVIES_AND_TV_SHOWS_CLUSTERING.ipynb\" target=\"_parent\"><img src=\"https://colab.research.google.com/assets/colab-badge.svg\" alt=\"Open In Colab\"/></a>"
      ]
    },
    {
      "cell_type": "markdown",
      "metadata": {
        "id": "LGcl5Bv9ed6u"
      },
      "source": [
        "# **Problem Statement**"
      ]
    },
    {
      "cell_type": "markdown",
      "metadata": {
        "id": "8M5kyFaVjzXk"
      },
      "source": [
        "This dataset consists of tv shows and movies available on Netflix as of 2019. The dataset is collected from Flixable which is a third-party Netflix search engine.\n",
        "\n",
        "In 2018, they released an interesting report which shows that the number of TV shows on Netflix has nearly tripled since 2010. The streaming service’s number of movies has decreased by more than 2,000 titles since 2010, while its number of TV shows has nearly tripled. It will be interesting to explore what all other insights can be obtained from the same dataset.\n",
        "\n",
        "Integrating this dataset with other external datasets such as IMDB ratings, rotten tomatoes can also provide many interesting findings."
      ]
    },
    {
      "cell_type": "markdown",
      "metadata": {
        "id": "tLx5cJO8hzb1"
      },
      "source": [
        "## <b>In this  project, you are required to do </b>\n",
        "1. Exploratory Data Analysis \n",
        "\n",
        "2. Understanding what type content is available in different countries\n",
        "\n",
        "3. Is Netflix has increasingly focusing on TV rather than movies in recent years.\n",
        "4. Clustering similar content by matching text-based features\n",
        "\n"
      ]
    },
    {
      "cell_type": "markdown",
      "metadata": {
        "id": "AzGDqdC4fZ-b"
      },
      "source": [
        "# **Attribute Information**"
      ]
    },
    {
      "cell_type": "markdown",
      "metadata": {
        "id": "jhfLYargscGV"
      },
      "source": [
        "1. show_id : Unique ID for every Movie / Tv Show\n",
        "\n",
        "2. type : Identifier - A Movie or TV Show\n",
        "\n",
        "3. title : Title of the Movie / Tv Show\n",
        "\n",
        "4. director : Director of the Movie\n",
        "\n",
        "5. cast : Actors involved in the movie / show\n",
        "\n",
        "6. country : Country where the movie / show was produced\n",
        "\n",
        "7. date_added : Date it was added on Netflix\n",
        "\n",
        "8. release_year : Actual Releaseyear of the movie / show\n",
        "\n",
        "9. rating : TV Rating of the movie / show\n",
        "\n",
        "10. duration : Total Duration - in minutes or number of seasons\n",
        "\n",
        "11. listed_in : Genere\n",
        "\n",
        "12. description: The Summary description"
      ]
    },
    {
      "cell_type": "markdown",
      "source": [
        "## **Importing Libraries**"
      ],
      "metadata": {
        "id": "scWqzMn8uH-K"
      }
    },
    {
      "cell_type": "code",
      "source": [
        "#importing libraries\n",
        "import numpy as np\n",
        "import pandas as pd\n",
        "import seaborn as sns\n",
        "import missingno as mno             #install  pip install missingno\n",
        "import warnings\n",
        "warnings.filterwarnings('ignore')\n",
        "import matplotlib.pyplot as plt\n",
        "from datetime import date, datetime"
      ],
      "metadata": {
        "id": "_6iL1xRit6rj"
      },
      "execution_count": 61,
      "outputs": []
    },
    {
      "cell_type": "markdown",
      "source": [
        "**Connecting the drive**"
      ],
      "metadata": {
        "id": "CazyMNqEuS3p"
      }
    },
    {
      "cell_type": "code",
      "source": [
        "#importing and connecting to the drive storage\n",
        "from google.colab import drive\n",
        "drive.mount('/content/drive')"
      ],
      "metadata": {
        "colab": {
          "base_uri": "https://localhost:8080/"
        },
        "id": "35l2OAh3uRHQ",
        "outputId": "f1af12ed-a6d3-43c5-8488-07f6da1382ca"
      },
      "execution_count": 62,
      "outputs": [
        {
          "output_type": "stream",
          "name": "stdout",
          "text": [
            "Drive already mounted at /content/drive; to attempt to forcibly remount, call drive.mount(\"/content/drive\", force_remount=True).\n"
          ]
        }
      ]
    },
    {
      "cell_type": "markdown",
      "source": [
        "**Data Loading**"
      ],
      "metadata": {
        "id": "TuXaep2vubkk"
      }
    },
    {
      "cell_type": "code",
      "source": [
        "#loading the restaurant reviews dataset\n",
        "netflix= pd.read_csv('/content/drive/MyDrive/Netflix movies and tv shows clustering/NETFLIX MOVIES AND TV SHOWS CLUSTERING.csv')"
      ],
      "metadata": {
        "id": "2I81tLENuWkJ"
      },
      "execution_count": 63,
      "outputs": []
    },
    {
      "cell_type": "code",
      "source": [
        "netflix.head()"
      ],
      "metadata": {
        "colab": {
          "base_uri": "https://localhost:8080/",
          "height": 380
        },
        "id": "1mNcA_fDuqCw",
        "outputId": "3c796c72-424d-4052-cb3d-995a4e8ea290"
      },
      "execution_count": 64,
      "outputs": [
        {
          "output_type": "execute_result",
          "data": {
            "text/html": [
              "<div>\n",
              "<style scoped>\n",
              "    .dataframe tbody tr th:only-of-type {\n",
              "        vertical-align: middle;\n",
              "    }\n",
              "\n",
              "    .dataframe tbody tr th {\n",
              "        vertical-align: top;\n",
              "    }\n",
              "\n",
              "    .dataframe thead th {\n",
              "        text-align: right;\n",
              "    }\n",
              "</style>\n",
              "<table border=\"1\" class=\"dataframe\">\n",
              "  <thead>\n",
              "    <tr style=\"text-align: right;\">\n",
              "      <th></th>\n",
              "      <th>show_id</th>\n",
              "      <th>type</th>\n",
              "      <th>title</th>\n",
              "      <th>director</th>\n",
              "      <th>cast</th>\n",
              "      <th>country</th>\n",
              "      <th>date_added</th>\n",
              "      <th>release_year</th>\n",
              "      <th>rating</th>\n",
              "      <th>duration</th>\n",
              "      <th>listed_in</th>\n",
              "      <th>description</th>\n",
              "    </tr>\n",
              "  </thead>\n",
              "  <tbody>\n",
              "    <tr>\n",
              "      <th>0</th>\n",
              "      <td>s1</td>\n",
              "      <td>TV Show</td>\n",
              "      <td>3%</td>\n",
              "      <td>NaN</td>\n",
              "      <td>João Miguel, Bianca Comparato, Michel Gomes, R...</td>\n",
              "      <td>Brazil</td>\n",
              "      <td>August 14, 2020</td>\n",
              "      <td>2020</td>\n",
              "      <td>TV-MA</td>\n",
              "      <td>4 Seasons</td>\n",
              "      <td>International TV Shows, TV Dramas, TV Sci-Fi &amp;...</td>\n",
              "      <td>In a future where the elite inhabit an island ...</td>\n",
              "    </tr>\n",
              "    <tr>\n",
              "      <th>1</th>\n",
              "      <td>s2</td>\n",
              "      <td>Movie</td>\n",
              "      <td>7:19</td>\n",
              "      <td>Jorge Michel Grau</td>\n",
              "      <td>Demián Bichir, Héctor Bonilla, Oscar Serrano, ...</td>\n",
              "      <td>Mexico</td>\n",
              "      <td>December 23, 2016</td>\n",
              "      <td>2016</td>\n",
              "      <td>TV-MA</td>\n",
              "      <td>93 min</td>\n",
              "      <td>Dramas, International Movies</td>\n",
              "      <td>After a devastating earthquake hits Mexico Cit...</td>\n",
              "    </tr>\n",
              "    <tr>\n",
              "      <th>2</th>\n",
              "      <td>s3</td>\n",
              "      <td>Movie</td>\n",
              "      <td>23:59</td>\n",
              "      <td>Gilbert Chan</td>\n",
              "      <td>Tedd Chan, Stella Chung, Henley Hii, Lawrence ...</td>\n",
              "      <td>Singapore</td>\n",
              "      <td>December 20, 2018</td>\n",
              "      <td>2011</td>\n",
              "      <td>R</td>\n",
              "      <td>78 min</td>\n",
              "      <td>Horror Movies, International Movies</td>\n",
              "      <td>When an army recruit is found dead, his fellow...</td>\n",
              "    </tr>\n",
              "    <tr>\n",
              "      <th>3</th>\n",
              "      <td>s4</td>\n",
              "      <td>Movie</td>\n",
              "      <td>9</td>\n",
              "      <td>Shane Acker</td>\n",
              "      <td>Elijah Wood, John C. Reilly, Jennifer Connelly...</td>\n",
              "      <td>United States</td>\n",
              "      <td>November 16, 2017</td>\n",
              "      <td>2009</td>\n",
              "      <td>PG-13</td>\n",
              "      <td>80 min</td>\n",
              "      <td>Action &amp; Adventure, Independent Movies, Sci-Fi...</td>\n",
              "      <td>In a postapocalyptic world, rag-doll robots hi...</td>\n",
              "    </tr>\n",
              "    <tr>\n",
              "      <th>4</th>\n",
              "      <td>s5</td>\n",
              "      <td>Movie</td>\n",
              "      <td>21</td>\n",
              "      <td>Robert Luketic</td>\n",
              "      <td>Jim Sturgess, Kevin Spacey, Kate Bosworth, Aar...</td>\n",
              "      <td>United States</td>\n",
              "      <td>January 1, 2020</td>\n",
              "      <td>2008</td>\n",
              "      <td>PG-13</td>\n",
              "      <td>123 min</td>\n",
              "      <td>Dramas</td>\n",
              "      <td>A brilliant group of students become card-coun...</td>\n",
              "    </tr>\n",
              "  </tbody>\n",
              "</table>\n",
              "</div>"
            ],
            "text/plain": [
              "  show_id  ...                                        description\n",
              "0      s1  ...  In a future where the elite inhabit an island ...\n",
              "1      s2  ...  After a devastating earthquake hits Mexico Cit...\n",
              "2      s3  ...  When an army recruit is found dead, his fellow...\n",
              "3      s4  ...  In a postapocalyptic world, rag-doll robots hi...\n",
              "4      s5  ...  A brilliant group of students become card-coun...\n",
              "\n",
              "[5 rows x 12 columns]"
            ]
          },
          "metadata": {},
          "execution_count": 64
        }
      ]
    },
    {
      "cell_type": "code",
      "source": [
        "#shape and size of dataset\n",
        "netflix.shape"
      ],
      "metadata": {
        "colab": {
          "base_uri": "https://localhost:8080/"
        },
        "id": "aR8FuwBYu0Rt",
        "outputId": "e1792dc4-7889-4950-bbe1-3dbe5b0ef889"
      },
      "execution_count": 65,
      "outputs": [
        {
          "output_type": "execute_result",
          "data": {
            "text/plain": [
              "(7787, 12)"
            ]
          },
          "metadata": {},
          "execution_count": 65
        }
      ]
    },
    {
      "cell_type": "code",
      "source": [
        "#columns in the reviews dataset\n",
        "netflix.columns"
      ],
      "metadata": {
        "colab": {
          "base_uri": "https://localhost:8080/"
        },
        "id": "YAJR_WSZu3FG",
        "outputId": "94377eff-91ad-44ca-9a4b-e8ed0699d9e5"
      },
      "execution_count": 66,
      "outputs": [
        {
          "output_type": "execute_result",
          "data": {
            "text/plain": [
              "Index(['show_id', 'type', 'title', 'director', 'cast', 'country', 'date_added',\n",
              "       'release_year', 'rating', 'duration', 'listed_in', 'description'],\n",
              "      dtype='object')"
            ]
          },
          "metadata": {},
          "execution_count": 66
        }
      ]
    },
    {
      "cell_type": "code",
      "source": [
        "netflix.info()"
      ],
      "metadata": {
        "colab": {
          "base_uri": "https://localhost:8080/"
        },
        "id": "qcdd7gdou-yS",
        "outputId": "6c265ee2-158f-47bb-ca26-33891a5b0b74"
      },
      "execution_count": 67,
      "outputs": [
        {
          "output_type": "stream",
          "name": "stdout",
          "text": [
            "<class 'pandas.core.frame.DataFrame'>\n",
            "RangeIndex: 7787 entries, 0 to 7786\n",
            "Data columns (total 12 columns):\n",
            " #   Column        Non-Null Count  Dtype \n",
            "---  ------        --------------  ----- \n",
            " 0   show_id       7787 non-null   object\n",
            " 1   type          7787 non-null   object\n",
            " 2   title         7787 non-null   object\n",
            " 3   director      5398 non-null   object\n",
            " 4   cast          7069 non-null   object\n",
            " 5   country       7280 non-null   object\n",
            " 6   date_added    7777 non-null   object\n",
            " 7   release_year  7787 non-null   int64 \n",
            " 8   rating        7780 non-null   object\n",
            " 9   duration      7787 non-null   object\n",
            " 10  listed_in     7787 non-null   object\n",
            " 11  description   7787 non-null   object\n",
            "dtypes: int64(1), object(11)\n",
            "memory usage: 730.2+ KB\n"
          ]
        }
      ]
    },
    {
      "cell_type": "markdown",
      "source": [
        "# **Data Cleaning**"
      ],
      "metadata": {
        "id": "PsOmKh50vGaw"
      }
    },
    {
      "cell_type": "code",
      "source": [
        "#checking for null values\n",
        "mno.bar(netflix, color='Black')\n",
        "plt.title('Checking for NaN values', size=16)\n",
        "plt.xlabel('Columns', size=14)\n",
        "plt.show()"
      ],
      "metadata": {
        "colab": {
          "base_uri": "https://localhost:8080/",
          "height": 625
        },
        "id": "6TnvI7h5w11h",
        "outputId": "2aca7026-39c2-42d9-a44c-160991080cbb"
      },
      "execution_count": 68,
      "outputs": [
        {
          "output_type": "display_data",
          "data": {
            "image/png": "[encoded data removed]",
            "text/plain": [
              "<Figure size 1800x720 with 3 Axes>"
            ]
          },
          "metadata": {
            "needs_background": "light"
          }
        }
      ]
    },
    {
      "cell_type": "code",
      "source": [
        "#dropping the null values\n",
        "netflix.dropna(inplace=True)"
      ],
      "metadata": {
        "id": "D2sOSLA_w14n"
      },
      "execution_count": 69,
      "outputs": []
    },
    {
      "cell_type": "code",
      "source": [
        "#checking for nan values\n",
        "mno.matrix(netflix,figsize=(16,10))"
      ],
      "metadata": {
        "colab": {
          "base_uri": "https://localhost:8080/",
          "height": 694
        },
        "id": "UInH4WUiw1-Y",
        "outputId": "fa658744-59b8-4531-8798-cd7f2a03a2b2"
      },
      "execution_count": 70,
      "outputs": [
        {
          "output_type": "execute_result",
          "data": {
            "text/plain": [
              "<matplotlib.axes._subplots.AxesSubplot at 0x7fbd42fc5e90>"
            ]
          },
          "metadata": {},
          "execution_count": 70
        },
        {
          "output_type": "display_data",
          "data": {
            "image/png": "[encoded data removed]",
            "text/plain": [
              "<Figure size 1152x720 with 2 Axes>"
            ]
          },
          "metadata": {
            "needs_background": "light"
          }
        }
      ]
    },
    {
      "cell_type": "markdown",
      "source": [
        "## **Feature engineering**"
      ],
      "metadata": {
        "id": "mHGh6fqINnOg"
      }
    },
    {
      "cell_type": "markdown",
      "source": [
        "**Convert Date Time format**"
      ],
      "metadata": {
        "id": "OiZ8MXzG2PLY"
      }
    },
    {
      "cell_type": "code",
      "source": [
        "netflix['date'] = pd.to_datetime(netflix['date_added'])\n",
        "netflix['Year'] = netflix['date'].dt.year\n",
        "netflix['Month'] = netflix['date'].dt.month\n",
        "netflix['Day'] = netflix['date'].dt.day\n",
        "netflix['Year'].astype(int);\n",
        "netflix['Day'].astype(int);"
      ],
      "metadata": {
        "id": "C9-fH7j12Mvo"
      },
      "execution_count": 71,
      "outputs": []
    },
    {
      "cell_type": "code",
      "source": [
        "netflix.head()"
      ],
      "metadata": {
        "colab": {
          "base_uri": "https://localhost:8080/",
          "height": 467
        },
        "id": "uWU1RBoQ2M5X",
        "outputId": "c8e65074-2c61-4312-c1d7-302efd9b237c"
      },
      "execution_count": 72,
      "outputs": [
        {
          "output_type": "execute_result",
          "data": {
            "text/html": [
              "<div>\n",
              "<style scoped>\n",
              "    .dataframe tbody tr th:only-of-type {\n",
              "        vertical-align: middle;\n",
              "    }\n",
              "\n",
              "    .dataframe tbody tr th {\n",
              "        vertical-align: top;\n",
              "    }\n",
              "\n",
              "    .dataframe thead th {\n",
              "        text-align: right;\n",
              "    }\n",
              "</style>\n",
              "<table border=\"1\" class=\"dataframe\">\n",
              "  <thead>\n",
              "    <tr style=\"text-align: right;\">\n",
              "      <th></th>\n",
              "      <th>show_id</th>\n",
              "      <th>type</th>\n",
              "      <th>title</th>\n",
              "      <th>director</th>\n",
              "      <th>cast</th>\n",
              "      <th>country</th>\n",
              "      <th>date_added</th>\n",
              "      <th>release_year</th>\n",
              "      <th>rating</th>\n",
              "      <th>duration</th>\n",
              "      <th>listed_in</th>\n",
              "      <th>description</th>\n",
              "      <th>date</th>\n",
              "      <th>Year</th>\n",
              "      <th>Month</th>\n",
              "      <th>Day</th>\n",
              "    </tr>\n",
              "  </thead>\n",
              "  <tbody>\n",
              "    <tr>\n",
              "      <th>1</th>\n",
              "      <td>s2</td>\n",
              "      <td>Movie</td>\n",
              "      <td>7:19</td>\n",
              "      <td>Jorge Michel Grau</td>\n",
              "      <td>Demián Bichir, Héctor Bonilla, Oscar Serrano, ...</td>\n",
              "      <td>Mexico</td>\n",
              "      <td>December 23, 2016</td>\n",
              "      <td>2016</td>\n",
              "      <td>TV-MA</td>\n",
              "      <td>93 min</td>\n",
              "      <td>Dramas, International Movies</td>\n",
              "      <td>After a devastating earthquake hits Mexico Cit...</td>\n",
              "      <td>2016-12-23</td>\n",
              "      <td>2016</td>\n",
              "      <td>12</td>\n",
              "      <td>23</td>\n",
              "    </tr>\n",
              "    <tr>\n",
              "      <th>2</th>\n",
              "      <td>s3</td>\n",
              "      <td>Movie</td>\n",
              "      <td>23:59</td>\n",
              "      <td>Gilbert Chan</td>\n",
              "      <td>Tedd Chan, Stella Chung, Henley Hii, Lawrence ...</td>\n",
              "      <td>Singapore</td>\n",
              "      <td>December 20, 2018</td>\n",
              "      <td>2011</td>\n",
              "      <td>R</td>\n",
              "      <td>78 min</td>\n",
              "      <td>Horror Movies, International Movies</td>\n",
              "      <td>When an army recruit is found dead, his fellow...</td>\n",
              "      <td>2018-12-20</td>\n",
              "      <td>2018</td>\n",
              "      <td>12</td>\n",
              "      <td>20</td>\n",
              "    </tr>\n",
              "    <tr>\n",
              "      <th>3</th>\n",
              "      <td>s4</td>\n",
              "      <td>Movie</td>\n",
              "      <td>9</td>\n",
              "      <td>Shane Acker</td>\n",
              "      <td>Elijah Wood, John C. Reilly, Jennifer Connelly...</td>\n",
              "      <td>United States</td>\n",
              "      <td>November 16, 2017</td>\n",
              "      <td>2009</td>\n",
              "      <td>PG-13</td>\n",
              "      <td>80 min</td>\n",
              "      <td>Action &amp; Adventure, Independent Movies, Sci-Fi...</td>\n",
              "      <td>In a postapocalyptic world, rag-doll robots hi...</td>\n",
              "      <td>2017-11-16</td>\n",
              "      <td>2017</td>\n",
              "      <td>11</td>\n",
              "      <td>16</td>\n",
              "    </tr>\n",
              "    <tr>\n",
              "      <th>4</th>\n",
              "      <td>s5</td>\n",
              "      <td>Movie</td>\n",
              "      <td>21</td>\n",
              "      <td>Robert Luketic</td>\n",
              "      <td>Jim Sturgess, Kevin Spacey, Kate Bosworth, Aar...</td>\n",
              "      <td>United States</td>\n",
              "      <td>January 1, 2020</td>\n",
              "      <td>2008</td>\n",
              "      <td>PG-13</td>\n",
              "      <td>123 min</td>\n",
              "      <td>Dramas</td>\n",
              "      <td>A brilliant group of students become card-coun...</td>\n",
              "      <td>2020-01-01</td>\n",
              "      <td>2020</td>\n",
              "      <td>1</td>\n",
              "      <td>1</td>\n",
              "    </tr>\n",
              "    <tr>\n",
              "      <th>5</th>\n",
              "      <td>s6</td>\n",
              "      <td>TV Show</td>\n",
              "      <td>46</td>\n",
              "      <td>Serdar Akar</td>\n",
              "      <td>Erdal Beşikçioğlu, Yasemin Allen, Melis Birkan...</td>\n",
              "      <td>Turkey</td>\n",
              "      <td>July 1, 2017</td>\n",
              "      <td>2016</td>\n",
              "      <td>TV-MA</td>\n",
              "      <td>1 Season</td>\n",
              "      <td>International TV Shows, TV Dramas, TV Mysteries</td>\n",
              "      <td>A genetics professor experiments with a treatm...</td>\n",
              "      <td>2017-07-01</td>\n",
              "      <td>2017</td>\n",
              "      <td>7</td>\n",
              "      <td>1</td>\n",
              "    </tr>\n",
              "  </tbody>\n",
              "</table>\n",
              "</div>"
            ],
            "text/plain": [
              "  show_id     type  title           director  ...       date  Year Month  Day\n",
              "1      s2    Movie   7:19  Jorge Michel Grau  ... 2016-12-23  2016    12   23\n",
              "2      s3    Movie  23:59       Gilbert Chan  ... 2018-12-20  2018    12   20\n",
              "3      s4    Movie      9        Shane Acker  ... 2017-11-16  2017    11   16\n",
              "4      s5    Movie     21     Robert Luketic  ... 2020-01-01  2020     1    1\n",
              "5      s6  TV Show     46        Serdar Akar  ... 2017-07-01  2017     7    1\n",
              "\n",
              "[5 rows x 16 columns]"
            ]
          },
          "metadata": {},
          "execution_count": 72
        }
      ]
    },
    {
      "cell_type": "markdown",
      "source": [
        "# **1. Data Visualization**"
      ],
      "metadata": {
        "id": "ESU-6OFg2-DU"
      }
    },
    {
      "cell_type": "markdown",
      "source": [
        "**Number of Movies/Tv shows released (Year wise)**"
      ],
      "metadata": {
        "id": "Irjbrrtw3A0k"
      }
    },
    {
      "cell_type": "code",
      "source": [
        "Year_df=netflix['Year'].value_counts().reset_index()\n",
        "Year_df.rename(columns={'index': 'Released_year'}, inplace=True)\n",
        "Year_df.rename(columns={'Year': 'Count'}, inplace=True)\n",
        "Year_df"
      ],
      "metadata": {
        "colab": {
          "base_uri": "https://localhost:8080/",
          "height": 488
        },
        "id": "6TJI-hOM2M9i",
        "outputId": "2e151b71-9a33-4431-d3a3-aee2d1ad01d7"
      },
      "execution_count": 73,
      "outputs": [
        {
          "output_type": "execute_result",
          "data": {
            "text/html": [
              "<div>\n",
              "<style scoped>\n",
              "    .dataframe tbody tr th:only-of-type {\n",
              "        vertical-align: middle;\n",
              "    }\n",
              "\n",
              "    .dataframe tbody tr th {\n",
              "        vertical-align: top;\n",
              "    }\n",
              "\n",
              "    .dataframe thead th {\n",
              "        text-align: right;\n",
              "    }\n",
              "</style>\n",
              "<table border=\"1\" class=\"dataframe\">\n",
              "  <thead>\n",
              "    <tr style=\"text-align: right;\">\n",
              "      <th></th>\n",
              "      <th>Released_year</th>\n",
              "      <th>Count</th>\n",
              "    </tr>\n",
              "  </thead>\n",
              "  <tbody>\n",
              "    <tr>\n",
              "      <th>0</th>\n",
              "      <td>2019</td>\n",
              "      <td>1337</td>\n",
              "    </tr>\n",
              "    <tr>\n",
              "      <th>1</th>\n",
              "      <td>2020</td>\n",
              "      <td>1229</td>\n",
              "    </tr>\n",
              "    <tr>\n",
              "      <th>2</th>\n",
              "      <td>2018</td>\n",
              "      <td>1114</td>\n",
              "    </tr>\n",
              "    <tr>\n",
              "      <th>3</th>\n",
              "      <td>2017</td>\n",
              "      <td>752</td>\n",
              "    </tr>\n",
              "    <tr>\n",
              "      <th>4</th>\n",
              "      <td>2016</td>\n",
              "      <td>207</td>\n",
              "    </tr>\n",
              "    <tr>\n",
              "      <th>5</th>\n",
              "      <td>2021</td>\n",
              "      <td>78</td>\n",
              "    </tr>\n",
              "    <tr>\n",
              "      <th>6</th>\n",
              "      <td>2015</td>\n",
              "      <td>50</td>\n",
              "    </tr>\n",
              "    <tr>\n",
              "      <th>7</th>\n",
              "      <td>2014</td>\n",
              "      <td>14</td>\n",
              "    </tr>\n",
              "    <tr>\n",
              "      <th>8</th>\n",
              "      <td>2011</td>\n",
              "      <td>13</td>\n",
              "    </tr>\n",
              "    <tr>\n",
              "      <th>9</th>\n",
              "      <td>2013</td>\n",
              "      <td>7</td>\n",
              "    </tr>\n",
              "    <tr>\n",
              "      <th>10</th>\n",
              "      <td>2012</td>\n",
              "      <td>3</td>\n",
              "    </tr>\n",
              "    <tr>\n",
              "      <th>11</th>\n",
              "      <td>2009</td>\n",
              "      <td>2</td>\n",
              "    </tr>\n",
              "    <tr>\n",
              "      <th>12</th>\n",
              "      <td>2010</td>\n",
              "      <td>1</td>\n",
              "    </tr>\n",
              "    <tr>\n",
              "      <th>13</th>\n",
              "      <td>2008</td>\n",
              "      <td>1</td>\n",
              "    </tr>\n",
              "  </tbody>\n",
              "</table>\n",
              "</div>"
            ],
            "text/plain": [
              "    Released_year  Count\n",
              "0            2019   1337\n",
              "1            2020   1229\n",
              "2            2018   1114\n",
              "3            2017    752\n",
              "4            2016    207\n",
              "5            2021     78\n",
              "6            2015     50\n",
              "7            2014     14\n",
              "8            2011     13\n",
              "9            2013      7\n",
              "10           2012      3\n",
              "11           2009      2\n",
              "12           2010      1\n",
              "13           2008      1"
            ]
          },
          "metadata": {},
          "execution_count": 73
        }
      ]
    },
    {
      "cell_type": "code",
      "source": [
        "plt.figure(figsize=(13,8))\n",
        "plt.title('Value counts of Movies/Tv shows')\n",
        "sns.barplot(x='Released_year',y='Count',data=Year_df)"
      ],
      "metadata": {
        "colab": {
          "base_uri": "https://localhost:8080/",
          "height": 531
        },
        "id": "APNp2JY02NAf",
        "outputId": "24eef7e4-0b6b-45e5-a988-94759cb612f6"
      },
      "execution_count": 74,
      "outputs": [
        {
          "output_type": "execute_result",
          "data": {
            "text/plain": [
              "<matplotlib.axes._subplots.AxesSubplot at 0x7fbd42f13f50>"
            ]
          },
          "metadata": {},
          "execution_count": 74
        },
        {
          "output_type": "display_data",
          "data": {
            "image/png": "[encoded data removed]",
            "text/plain": [
              "<Figure size 936x576 with 1 Axes>"
            ]
          },
          "metadata": {
            "needs_background": "light"
          }
        }
      ]
    },
    {
      "cell_type": "markdown",
      "source": [
        "**Number of Movies/Tv shows released (Month wise)**"
      ],
      "metadata": {
        "id": "TOOQE7xM3IZD"
      }
    },
    {
      "cell_type": "code",
      "source": [
        "month_df=netflix['Month'].value_counts().reset_index()\n",
        "month_df.rename(columns={'index': 'Released_Month'}, inplace=True)\n",
        "month_df.rename(columns={'Month': 'Count'}, inplace=True)\n",
        "month_df"
      ],
      "metadata": {
        "colab": {
          "base_uri": "https://localhost:8080/",
          "height": 426
        },
        "id": "9d54q0TO2NDX",
        "outputId": "fc1ff1b8-9276-4367-84be-e7b3dc006baf"
      },
      "execution_count": 75,
      "outputs": [
        {
          "output_type": "execute_result",
          "data": {
            "text/html": [
              "<div>\n",
              "<style scoped>\n",
              "    .dataframe tbody tr th:only-of-type {\n",
              "        vertical-align: middle;\n",
              "    }\n",
              "\n",
              "    .dataframe tbody tr th {\n",
              "        vertical-align: top;\n",
              "    }\n",
              "\n",
              "    .dataframe thead th {\n",
              "        text-align: right;\n",
              "    }\n",
              "</style>\n",
              "<table border=\"1\" class=\"dataframe\">\n",
              "  <thead>\n",
              "    <tr style=\"text-align: right;\">\n",
              "      <th></th>\n",
              "      <th>Released_Month</th>\n",
              "      <th>Count</th>\n",
              "    </tr>\n",
              "  </thead>\n",
              "  <tbody>\n",
              "    <tr>\n",
              "      <th>0</th>\n",
              "      <td>10</td>\n",
              "      <td>498</td>\n",
              "    </tr>\n",
              "    <tr>\n",
              "      <th>1</th>\n",
              "      <td>1</td>\n",
              "      <td>497</td>\n",
              "    </tr>\n",
              "    <tr>\n",
              "      <th>2</th>\n",
              "      <td>12</td>\n",
              "      <td>495</td>\n",
              "    </tr>\n",
              "    <tr>\n",
              "      <th>3</th>\n",
              "      <td>11</td>\n",
              "      <td>470</td>\n",
              "    </tr>\n",
              "    <tr>\n",
              "      <th>4</th>\n",
              "      <td>3</td>\n",
              "      <td>425</td>\n",
              "    </tr>\n",
              "    <tr>\n",
              "      <th>5</th>\n",
              "      <td>7</td>\n",
              "      <td>371</td>\n",
              "    </tr>\n",
              "    <tr>\n",
              "      <th>6</th>\n",
              "      <td>4</td>\n",
              "      <td>370</td>\n",
              "    </tr>\n",
              "    <tr>\n",
              "      <th>7</th>\n",
              "      <td>8</td>\n",
              "      <td>369</td>\n",
              "    </tr>\n",
              "    <tr>\n",
              "      <th>8</th>\n",
              "      <td>9</td>\n",
              "      <td>355</td>\n",
              "    </tr>\n",
              "    <tr>\n",
              "      <th>9</th>\n",
              "      <td>6</td>\n",
              "      <td>334</td>\n",
              "    </tr>\n",
              "    <tr>\n",
              "      <th>10</th>\n",
              "      <td>5</td>\n",
              "      <td>328</td>\n",
              "    </tr>\n",
              "    <tr>\n",
              "      <th>11</th>\n",
              "      <td>2</td>\n",
              "      <td>296</td>\n",
              "    </tr>\n",
              "  </tbody>\n",
              "</table>\n",
              "</div>"
            ],
            "text/plain": [
              "    Released_Month  Count\n",
              "0               10    498\n",
              "1                1    497\n",
              "2               12    495\n",
              "3               11    470\n",
              "4                3    425\n",
              "5                7    371\n",
              "6                4    370\n",
              "7                8    369\n",
              "8                9    355\n",
              "9                6    334\n",
              "10               5    328\n",
              "11               2    296"
            ]
          },
          "metadata": {},
          "execution_count": 75
        }
      ]
    },
    {
      "cell_type": "code",
      "source": [
        "plt.figure(figsize=(13,8))\n",
        "plt.title('Value counts of Movies/Tv shows')\n",
        "sns.barplot(x='Released_Month',y='Count',data=month_df)"
      ],
      "metadata": {
        "colab": {
          "base_uri": "https://localhost:8080/",
          "height": 531
        },
        "id": "qyS9pEPB2NHf",
        "outputId": "600e9c14-5f13-4c19-a30c-33d9702a438b"
      },
      "execution_count": 76,
      "outputs": [
        {
          "output_type": "execute_result",
          "data": {
            "text/plain": [
              "<matplotlib.axes._subplots.AxesSubplot at 0x7fbd42ea2190>"
            ]
          },
          "metadata": {},
          "execution_count": 76
        },
        {
          "output_type": "display_data",
          "data": {
            "image/png": "[encoded data removed]",
            "text/plain": [
              "<Figure size 936x576 with 1 Axes>"
            ]
          },
          "metadata": {
            "needs_background": "light"
          }
        }
      ]
    },
    {
      "cell_type": "markdown",
      "source": [
        "**Number of Movies/Tv shows released (Date wise)**"
      ],
      "metadata": {
        "id": "S--JrEmX3PpK"
      }
    },
    {
      "cell_type": "code",
      "source": [
        "Day_df=netflix['Day'].value_counts().reset_index()\n",
        "Day_df.rename(columns={'index': 'Released_date'}, inplace=True)\n",
        "Day_df.rename(columns={'Day': 'Count'}, inplace=True)\n",
        "Day_df"
      ],
      "metadata": {
        "colab": {
          "base_uri": "https://localhost:8080/",
          "height": 1000
        },
        "id": "cRKOBHiv3RQK",
        "outputId": "73db7afc-d3bb-4c08-922d-0567a126e61e"
      },
      "execution_count": 77,
      "outputs": [
        {
          "output_type": "execute_result",
          "data": {
            "text/html": [
              "<div>\n",
              "<style scoped>\n",
              "    .dataframe tbody tr th:only-of-type {\n",
              "        vertical-align: middle;\n",
              "    }\n",
              "\n",
              "    .dataframe tbody tr th {\n",
              "        vertical-align: top;\n",
              "    }\n",
              "\n",
              "    .dataframe thead th {\n",
              "        text-align: right;\n",
              "    }\n",
              "</style>\n",
              "<table border=\"1\" class=\"dataframe\">\n",
              "  <thead>\n",
              "    <tr style=\"text-align: right;\">\n",
              "      <th></th>\n",
              "      <th>Released_date</th>\n",
              "      <th>Count</th>\n",
              "    </tr>\n",
              "  </thead>\n",
              "  <tbody>\n",
              "    <tr>\n",
              "      <th>0</th>\n",
              "      <td>1</td>\n",
              "      <td>1396</td>\n",
              "    </tr>\n",
              "    <tr>\n",
              "      <th>1</th>\n",
              "      <td>15</td>\n",
              "      <td>391</td>\n",
              "    </tr>\n",
              "    <tr>\n",
              "      <th>2</th>\n",
              "      <td>31</td>\n",
              "      <td>168</td>\n",
              "    </tr>\n",
              "    <tr>\n",
              "      <th>3</th>\n",
              "      <td>16</td>\n",
              "      <td>155</td>\n",
              "    </tr>\n",
              "    <tr>\n",
              "      <th>4</th>\n",
              "      <td>2</td>\n",
              "      <td>148</td>\n",
              "    </tr>\n",
              "    <tr>\n",
              "      <th>5</th>\n",
              "      <td>10</td>\n",
              "      <td>134</td>\n",
              "    </tr>\n",
              "    <tr>\n",
              "      <th>6</th>\n",
              "      <td>5</td>\n",
              "      <td>134</td>\n",
              "    </tr>\n",
              "    <tr>\n",
              "      <th>7</th>\n",
              "      <td>20</td>\n",
              "      <td>132</td>\n",
              "    </tr>\n",
              "    <tr>\n",
              "      <th>8</th>\n",
              "      <td>19</td>\n",
              "      <td>131</td>\n",
              "    </tr>\n",
              "    <tr>\n",
              "      <th>9</th>\n",
              "      <td>6</td>\n",
              "      <td>113</td>\n",
              "    </tr>\n",
              "    <tr>\n",
              "      <th>10</th>\n",
              "      <td>25</td>\n",
              "      <td>113</td>\n",
              "    </tr>\n",
              "    <tr>\n",
              "      <th>11</th>\n",
              "      <td>26</td>\n",
              "      <td>109</td>\n",
              "    </tr>\n",
              "    <tr>\n",
              "      <th>12</th>\n",
              "      <td>22</td>\n",
              "      <td>103</td>\n",
              "    </tr>\n",
              "    <tr>\n",
              "      <th>13</th>\n",
              "      <td>21</td>\n",
              "      <td>103</td>\n",
              "    </tr>\n",
              "    <tr>\n",
              "      <th>14</th>\n",
              "      <td>8</td>\n",
              "      <td>102</td>\n",
              "    </tr>\n",
              "    <tr>\n",
              "      <th>15</th>\n",
              "      <td>28</td>\n",
              "      <td>102</td>\n",
              "    </tr>\n",
              "    <tr>\n",
              "      <th>16</th>\n",
              "      <td>18</td>\n",
              "      <td>100</td>\n",
              "    </tr>\n",
              "    <tr>\n",
              "      <th>17</th>\n",
              "      <td>30</td>\n",
              "      <td>95</td>\n",
              "    </tr>\n",
              "    <tr>\n",
              "      <th>18</th>\n",
              "      <td>7</td>\n",
              "      <td>95</td>\n",
              "    </tr>\n",
              "    <tr>\n",
              "      <th>19</th>\n",
              "      <td>14</td>\n",
              "      <td>94</td>\n",
              "    </tr>\n",
              "    <tr>\n",
              "      <th>20</th>\n",
              "      <td>13</td>\n",
              "      <td>92</td>\n",
              "    </tr>\n",
              "    <tr>\n",
              "      <th>21</th>\n",
              "      <td>12</td>\n",
              "      <td>90</td>\n",
              "    </tr>\n",
              "    <tr>\n",
              "      <th>22</th>\n",
              "      <td>4</td>\n",
              "      <td>88</td>\n",
              "    </tr>\n",
              "    <tr>\n",
              "      <th>23</th>\n",
              "      <td>27</td>\n",
              "      <td>87</td>\n",
              "    </tr>\n",
              "    <tr>\n",
              "      <th>24</th>\n",
              "      <td>17</td>\n",
              "      <td>83</td>\n",
              "    </tr>\n",
              "    <tr>\n",
              "      <th>25</th>\n",
              "      <td>24</td>\n",
              "      <td>83</td>\n",
              "    </tr>\n",
              "    <tr>\n",
              "      <th>26</th>\n",
              "      <td>23</td>\n",
              "      <td>82</td>\n",
              "    </tr>\n",
              "    <tr>\n",
              "      <th>27</th>\n",
              "      <td>3</td>\n",
              "      <td>80</td>\n",
              "    </tr>\n",
              "    <tr>\n",
              "      <th>28</th>\n",
              "      <td>29</td>\n",
              "      <td>71</td>\n",
              "    </tr>\n",
              "    <tr>\n",
              "      <th>29</th>\n",
              "      <td>9</td>\n",
              "      <td>67</td>\n",
              "    </tr>\n",
              "    <tr>\n",
              "      <th>30</th>\n",
              "      <td>11</td>\n",
              "      <td>67</td>\n",
              "    </tr>\n",
              "  </tbody>\n",
              "</table>\n",
              "</div>"
            ],
            "text/plain": [
              "    Released_date  Count\n",
              "0               1   1396\n",
              "1              15    391\n",
              "2              31    168\n",
              "3              16    155\n",
              "4               2    148\n",
              "5              10    134\n",
              "6               5    134\n",
              "7              20    132\n",
              "8              19    131\n",
              "9               6    113\n",
              "10             25    113\n",
              "11             26    109\n",
              "12             22    103\n",
              "13             21    103\n",
              "14              8    102\n",
              "15             28    102\n",
              "16             18    100\n",
              "17             30     95\n",
              "18              7     95\n",
              "19             14     94\n",
              "20             13     92\n",
              "21             12     90\n",
              "22              4     88\n",
              "23             27     87\n",
              "24             17     83\n",
              "25             24     83\n",
              "26             23     82\n",
              "27              3     80\n",
              "28             29     71\n",
              "29              9     67\n",
              "30             11     67"
            ]
          },
          "metadata": {},
          "execution_count": 77
        }
      ]
    },
    {
      "cell_type": "code",
      "source": [
        "plt.figure(figsize=(13,8))\n",
        "plt.title('Value counts of Movies/Tv shows')\n",
        "sns.barplot(x='Released_date',y='Count',data=Day_df)"
      ],
      "metadata": {
        "colab": {
          "base_uri": "https://localhost:8080/",
          "height": 531
        },
        "id": "7mLsvQyR3RYS",
        "outputId": "ef254825-eedc-4ffb-a283-4d84dd4d3a7d"
      },
      "execution_count": 78,
      "outputs": [
        {
          "output_type": "execute_result",
          "data": {
            "text/plain": [
              "<matplotlib.axes._subplots.AxesSubplot at 0x7fbd42d82d50>"
            ]
          },
          "metadata": {},
          "execution_count": 78
        },
        {
          "output_type": "display_data",
          "data": {
            "image/png": "[encoded data removed]",
            "text/plain": [
              "<Figure size 936x576 with 1 Axes>"
            ]
          },
          "metadata": {
            "needs_background": "light"
          }
        }
      ]
    },
    {
      "cell_type": "markdown",
      "source": [
        "**Type: Movie and TV Shows**"
      ],
      "metadata": {
        "id": "hXnlW-d_3Vwh"
      }
    },
    {
      "cell_type": "code",
      "source": [
        "# Value counts of Rendted bikes on holidays\n",
        "Type= netflix['type'].value_counts()\n",
        "Type"
      ],
      "metadata": {
        "colab": {
          "base_uri": "https://localhost:8080/"
        },
        "id": "64psXFh23Ybk",
        "outputId": "b7ea5311-f9fd-4da8-ea28-d57cfe78565a"
      },
      "execution_count": 79,
      "outputs": [
        {
          "output_type": "execute_result",
          "data": {
            "text/plain": [
              "Movie      4673\n",
              "TV Show     135\n",
              "Name: type, dtype: int64"
            ]
          },
          "metadata": {},
          "execution_count": 79
        }
      ]
    },
    {
      "cell_type": "code",
      "source": [
        "plt.rcParams['figure.figsize'] = 4,4\n",
        "labels = netflix['type'].value_counts().index.tolist()\n",
        "sizes = netflix['type'].value_counts().tolist()\n",
        "colors = ['lightskyblue','yellow']\n",
        "explode = (0, 0.1)\n",
        "plt.pie(sizes, labels=labels,explode = (0, 0.1), colors=colors,autopct='%1.1f%%' ,startangle=60,textprops={'fontsize': 14})"
      ],
      "metadata": {
        "colab": {
          "base_uri": "https://localhost:8080/",
          "height": 352
        },
        "id": "X5iTQJ5I3Ye9",
        "outputId": "8f409d84-aa3a-48c6-8dd3-1b5f5b745a11"
      },
      "execution_count": 80,
      "outputs": [
        {
          "output_type": "execute_result",
          "data": {
            "text/plain": [
              "([<matplotlib.patches.Wedge at 0x7fbd42c26590>,\n",
              "  <matplotlib.patches.Wedge at 0x7fbd42c26d90>],\n",
              " [Text(-0.6317842255148798, -0.9004713723326042, 'Movie'),\n",
              "  Text(0.6892191436105667, 0.9823324142471922, 'TV Show')],\n",
              " [Text(-0.34460957755357075, -0.49116620309051134, '97.2%'),\n",
              "  Text(0.40204450043949724, 0.5730272416441954, '2.8%')])"
            ]
          },
          "metadata": {},
          "execution_count": 80
        },
        {
          "output_type": "display_data",
          "data": {
            "image/png": "[encoded data removed]",
            "text/plain": [
              "<Figure size 288x288 with 1 Axes>"
            ]
          },
          "metadata": {}
        }
      ]
    },
    {
      "cell_type": "markdown",
      "source": [
        "**Rating of shows and movies**"
      ],
      "metadata": {
        "id": "i17pVlnK3iPG"
      }
    },
    {
      "cell_type": "code",
      "source": [
        "#plotting the value counts of Restaurant ratings\n",
        "plt.figure(figsize=(12, 5))\n",
        "sns.countplot(netflix.rating)\n",
        "plt.title('Movies and TV shows rating', size=16)\n",
        "plt.xlabel('Rating', size=14)\n",
        "plt.ylabel('Count', size=14)\n",
        "plt.show()"
      ],
      "metadata": {
        "colab": {
          "base_uri": "https://localhost:8080/",
          "height": 356
        },
        "id": "1sQ3RkDv3leT",
        "outputId": "a51fa587-2deb-4b01-ff32-7836997faa4f"
      },
      "execution_count": 81,
      "outputs": [
        {
          "output_type": "display_data",
          "data": {
            "image/png": "[encoded data removed]",
            "text/plain": [
              "<Figure size 864x360 with 1 Axes>"
            ]
          },
          "metadata": {
            "needs_background": "light"
          }
        }
      ]
    },
    {
      "cell_type": "markdown",
      "source": [
        "**Top 5 Producer Countries**"
      ],
      "metadata": {
        "id": "97Ls_acl4KCO"
      }
    },
    {
      "cell_type": "code",
      "source": [
        "country= netflix['country'].value_counts().reset_index()\n",
        "country.rename(columns={'index' : 'Production_countries'}, inplace= True)\n",
        "country.rename(columns={'country' : 'count'}, inplace= True)\n",
        "country.head()"
      ],
      "metadata": {
        "colab": {
          "base_uri": "https://localhost:8080/",
          "height": 206
        },
        "id": "sjkMuQOq3lhZ",
        "outputId": "b92d9b71-d5cb-4ad8-b6ac-4022ec7d7db0"
      },
      "execution_count": 82,
      "outputs": [
        {
          "output_type": "execute_result",
          "data": {
            "text/html": [
              "<div>\n",
              "<style scoped>\n",
              "    .dataframe tbody tr th:only-of-type {\n",
              "        vertical-align: middle;\n",
              "    }\n",
              "\n",
              "    .dataframe tbody tr th {\n",
              "        vertical-align: top;\n",
              "    }\n",
              "\n",
              "    .dataframe thead th {\n",
              "        text-align: right;\n",
              "    }\n",
              "</style>\n",
              "<table border=\"1\" class=\"dataframe\">\n",
              "  <thead>\n",
              "    <tr style=\"text-align: right;\">\n",
              "      <th></th>\n",
              "      <th>Production_countries</th>\n",
              "      <th>count</th>\n",
              "    </tr>\n",
              "  </thead>\n",
              "  <tbody>\n",
              "    <tr>\n",
              "      <th>0</th>\n",
              "      <td>United States</td>\n",
              "      <td>1653</td>\n",
              "    </tr>\n",
              "    <tr>\n",
              "      <th>1</th>\n",
              "      <td>India</td>\n",
              "      <td>832</td>\n",
              "    </tr>\n",
              "    <tr>\n",
              "      <th>2</th>\n",
              "      <td>United Kingdom</td>\n",
              "      <td>174</td>\n",
              "    </tr>\n",
              "    <tr>\n",
              "      <th>3</th>\n",
              "      <td>Canada</td>\n",
              "      <td>104</td>\n",
              "    </tr>\n",
              "    <tr>\n",
              "      <th>4</th>\n",
              "      <td>Egypt</td>\n",
              "      <td>87</td>\n",
              "    </tr>\n",
              "  </tbody>\n",
              "</table>\n",
              "</div>"
            ],
            "text/plain": [
              "  Production_countries  count\n",
              "0        United States   1653\n",
              "1                India    832\n",
              "2       United Kingdom    174\n",
              "3               Canada    104\n",
              "4                Egypt     87"
            ]
          },
          "metadata": {},
          "execution_count": 82
        }
      ]
    },
    {
      "cell_type": "code",
      "source": [
        "plt.figure(figsize=(12,5))\n",
        "plt.title('Top 5 producer countries')\n",
        "sns.barplot(x='Production_countries',y= 'count', data= country[:10])"
      ],
      "metadata": {
        "colab": {
          "base_uri": "https://localhost:8080/",
          "height": 368
        },
        "id": "6_hl8MAJ4OJR",
        "outputId": "c7d92974-e107-47e8-cff0-e54697b4a305"
      },
      "execution_count": 83,
      "outputs": [
        {
          "output_type": "execute_result",
          "data": {
            "text/plain": [
              "<matplotlib.axes._subplots.AxesSubplot at 0x7fbd42c674d0>"
            ]
          },
          "metadata": {},
          "execution_count": 83
        },
        {
          "output_type": "display_data",
          "data": {
            "image/png": "[encoded data removed]",
            "text/plain": [
              "<Figure size 864x360 with 1 Axes>"
            ]
          },
          "metadata": {
            "needs_background": "light"
          }
        }
      ]
    },
    {
      "cell_type": "markdown",
      "source": [
        "**value counts movies or tv shows added on netflix**"
      ],
      "metadata": {
        "id": "L3I9gHxD4Q2P"
      }
    },
    {
      "cell_type": "code",
      "source": [
        "Date_added= netflix['date_added'].value_counts().reset_index()\n",
        "Date_added.rename(columns={'index' : 'Date_added'}, inplace= True)\n",
        "Date_added.rename(columns={'date_added' : 'count'}, inplace= True)\n",
        "Date_added.head()"
      ],
      "metadata": {
        "colab": {
          "base_uri": "https://localhost:8080/",
          "height": 206
        },
        "id": "UE5-LGnO4OPP",
        "outputId": "db52b324-0719-4607-e4ca-fe32d6b66379"
      },
      "execution_count": 84,
      "outputs": [
        {
          "output_type": "execute_result",
          "data": {
            "text/html": [
              "<div>\n",
              "<style scoped>\n",
              "    .dataframe tbody tr th:only-of-type {\n",
              "        vertical-align: middle;\n",
              "    }\n",
              "\n",
              "    .dataframe tbody tr th {\n",
              "        vertical-align: top;\n",
              "    }\n",
              "\n",
              "    .dataframe thead th {\n",
              "        text-align: right;\n",
              "    }\n",
              "</style>\n",
              "<table border=\"1\" class=\"dataframe\">\n",
              "  <thead>\n",
              "    <tr style=\"text-align: right;\">\n",
              "      <th></th>\n",
              "      <th>Date_added</th>\n",
              "      <th>count</th>\n",
              "    </tr>\n",
              "  </thead>\n",
              "  <tbody>\n",
              "    <tr>\n",
              "      <th>0</th>\n",
              "      <td>January 1, 2020</td>\n",
              "      <td>100</td>\n",
              "    </tr>\n",
              "    <tr>\n",
              "      <th>1</th>\n",
              "      <td>November 1, 2019</td>\n",
              "      <td>70</td>\n",
              "    </tr>\n",
              "    <tr>\n",
              "      <th>2</th>\n",
              "      <td>March 1, 2018</td>\n",
              "      <td>67</td>\n",
              "    </tr>\n",
              "    <tr>\n",
              "      <th>3</th>\n",
              "      <td>December 31, 2019</td>\n",
              "      <td>64</td>\n",
              "    </tr>\n",
              "    <tr>\n",
              "      <th>4</th>\n",
              "      <td>October 1, 2018</td>\n",
              "      <td>61</td>\n",
              "    </tr>\n",
              "  </tbody>\n",
              "</table>\n",
              "</div>"
            ],
            "text/plain": [
              "          Date_added  count\n",
              "0    January 1, 2020    100\n",
              "1   November 1, 2019     70\n",
              "2      March 1, 2018     67\n",
              "3  December 31, 2019     64\n",
              "4    October 1, 2018     61"
            ]
          },
          "metadata": {},
          "execution_count": 84
        }
      ]
    },
    {
      "cell_type": "code",
      "source": [
        "plt.figure(figsize=(16,8))\n",
        "plt.title('value counts of Genere')\n",
        "sns.barplot(x='Date_added',y= 'count', data= Date_added[:5])"
      ],
      "metadata": {
        "colab": {
          "base_uri": "https://localhost:8080/",
          "height": 531
        },
        "id": "5gxXd0cs4OSM",
        "outputId": "744dee0d-d386-422a-d6bc-025359714eeb"
      },
      "execution_count": 85,
      "outputs": [
        {
          "output_type": "execute_result",
          "data": {
            "text/plain": [
              "<matplotlib.axes._subplots.AxesSubplot at 0x7fbd42b26450>"
            ]
          },
          "metadata": {},
          "execution_count": 85
        },
        {
          "output_type": "display_data",
          "data": {
            "image/png": "[encoded data removed]",
            "text/plain": [
              "<Figure size 1152x576 with 1 Axes>"
            ]
          },
          "metadata": {
            "needs_background": "light"
          }
        }
      ]
    },
    {
      "cell_type": "markdown",
      "source": [
        "**value counts of Genere**"
      ],
      "metadata": {
        "id": "u6PfFlzU4XuI"
      }
    },
    {
      "cell_type": "code",
      "source": [
        "Listed_in= netflix['listed_in'].value_counts().reset_index()\n",
        "Listed_in.rename(columns={'index' : 'Listed_in'}, inplace= True)\n",
        "Listed_in.rename(columns={'listed_in' : 'count'}, inplace= True)\n",
        "Listed_in.head()"
      ],
      "metadata": {
        "colab": {
          "base_uri": "https://localhost:8080/",
          "height": 206
        },
        "id": "-3Dw8PEW4OZ0",
        "outputId": "ccec7ba1-cc7b-4960-e1ab-0d4e7cc6f3b5"
      },
      "execution_count": 86,
      "outputs": [
        {
          "output_type": "execute_result",
          "data": {
            "text/html": [
              "<div>\n",
              "<style scoped>\n",
              "    .dataframe tbody tr th:only-of-type {\n",
              "        vertical-align: middle;\n",
              "    }\n",
              "\n",
              "    .dataframe tbody tr th {\n",
              "        vertical-align: top;\n",
              "    }\n",
              "\n",
              "    .dataframe thead th {\n",
              "        text-align: right;\n",
              "    }\n",
              "</style>\n",
              "<table border=\"1\" class=\"dataframe\">\n",
              "  <thead>\n",
              "    <tr style=\"text-align: right;\">\n",
              "      <th></th>\n",
              "      <th>Listed_in</th>\n",
              "      <th>count</th>\n",
              "    </tr>\n",
              "  </thead>\n",
              "  <tbody>\n",
              "    <tr>\n",
              "      <th>0</th>\n",
              "      <td>Dramas, International Movies</td>\n",
              "      <td>306</td>\n",
              "    </tr>\n",
              "    <tr>\n",
              "      <th>1</th>\n",
              "      <td>Stand-Up Comedy</td>\n",
              "      <td>276</td>\n",
              "    </tr>\n",
              "    <tr>\n",
              "      <th>2</th>\n",
              "      <td>Comedies, Dramas, International Movies</td>\n",
              "      <td>237</td>\n",
              "    </tr>\n",
              "    <tr>\n",
              "      <th>3</th>\n",
              "      <td>Dramas, Independent Movies, International Movies</td>\n",
              "      <td>213</td>\n",
              "    </tr>\n",
              "    <tr>\n",
              "      <th>4</th>\n",
              "      <td>Children &amp; Family Movies, Comedies</td>\n",
              "      <td>158</td>\n",
              "    </tr>\n",
              "  </tbody>\n",
              "</table>\n",
              "</div>"
            ],
            "text/plain": [
              "                                          Listed_in  count\n",
              "0                      Dramas, International Movies    306\n",
              "1                                   Stand-Up Comedy    276\n",
              "2            Comedies, Dramas, International Movies    237\n",
              "3  Dramas, Independent Movies, International Movies    213\n",
              "4                Children & Family Movies, Comedies    158"
            ]
          },
          "metadata": {},
          "execution_count": 86
        }
      ]
    },
    {
      "cell_type": "code",
      "source": [
        "plt.figure(figsize=(16,8))\n",
        "plt.title('value counts of Genere')\n",
        "sns.barplot(x='Listed_in',y= 'count', data= Listed_in[:5])"
      ],
      "metadata": {
        "colab": {
          "base_uri": "https://localhost:8080/",
          "height": 531
        },
        "id": "hhsKLFO94OfB",
        "outputId": "208bc1cb-38da-4afd-e57f-e39c502fa1b7"
      },
      "execution_count": 87,
      "outputs": [
        {
          "output_type": "execute_result",
          "data": {
            "text/plain": [
              "<matplotlib.axes._subplots.AxesSubplot at 0x7fbd42a1a650>"
            ]
          },
          "metadata": {},
          "execution_count": 87
        },
        {
          "output_type": "display_data",
          "data": {
            "image/png": "[encoded data removed]",
            "text/plain": [
              "<Figure size 1152x576 with 1 Axes>"
            ]
          },
          "metadata": {
            "needs_background": "light"
          }
        }
      ]
    },
    {
      "cell_type": "markdown",
      "source": [
        "**Value counts of Actors involved in the movie / show**"
      ],
      "metadata": {
        "id": "cVO3mPFj4dAI"
      }
    },
    {
      "cell_type": "code",
      "source": [
        "Cast_name= netflix['cast'].value_counts().reset_index()\n",
        "Cast_name.rename(columns={'index' : 'Cast_name'}, inplace= True)\n",
        "Cast_name.rename(columns={'cast' : 'count'}, inplace= True)\n",
        "Cast_name.head()"
      ],
      "metadata": {
        "colab": {
          "base_uri": "https://localhost:8080/",
          "height": 206
        },
        "id": "Y9E4wpdh4Ok2",
        "outputId": "84818909-9c56-42a8-b0a8-49607658babb"
      },
      "execution_count": 88,
      "outputs": [
        {
          "output_type": "execute_result",
          "data": {
            "text/html": [
              "<div>\n",
              "<style scoped>\n",
              "    .dataframe tbody tr th:only-of-type {\n",
              "        vertical-align: middle;\n",
              "    }\n",
              "\n",
              "    .dataframe tbody tr th {\n",
              "        vertical-align: top;\n",
              "    }\n",
              "\n",
              "    .dataframe thead th {\n",
              "        text-align: right;\n",
              "    }\n",
              "</style>\n",
              "<table border=\"1\" class=\"dataframe\">\n",
              "  <thead>\n",
              "    <tr style=\"text-align: right;\">\n",
              "      <th></th>\n",
              "      <th>Cast_name</th>\n",
              "      <th>count</th>\n",
              "    </tr>\n",
              "  </thead>\n",
              "  <tbody>\n",
              "    <tr>\n",
              "      <th>0</th>\n",
              "      <td>Samuel West</td>\n",
              "      <td>10</td>\n",
              "    </tr>\n",
              "    <tr>\n",
              "      <th>1</th>\n",
              "      <td>Jeff Dunham</td>\n",
              "      <td>7</td>\n",
              "    </tr>\n",
              "    <tr>\n",
              "      <th>2</th>\n",
              "      <td>Kevin Hart</td>\n",
              "      <td>6</td>\n",
              "    </tr>\n",
              "    <tr>\n",
              "      <th>3</th>\n",
              "      <td>Bill Burr</td>\n",
              "      <td>5</td>\n",
              "    </tr>\n",
              "    <tr>\n",
              "      <th>4</th>\n",
              "      <td>Jim Gaffigan</td>\n",
              "      <td>5</td>\n",
              "    </tr>\n",
              "  </tbody>\n",
              "</table>\n",
              "</div>"
            ],
            "text/plain": [
              "      Cast_name  count\n",
              "0   Samuel West     10\n",
              "1   Jeff Dunham      7\n",
              "2    Kevin Hart      6\n",
              "3     Bill Burr      5\n",
              "4  Jim Gaffigan      5"
            ]
          },
          "metadata": {},
          "execution_count": 88
        }
      ]
    },
    {
      "cell_type": "code",
      "source": [
        "plt.figure(figsize=(17,8))\n",
        "plt.title('Top 10 cast with highest movies or tv shows')\n",
        "sns.barplot(x='Cast_name',y= 'count', data=Cast_name[:10])"
      ],
      "metadata": {
        "colab": {
          "base_uri": "https://localhost:8080/",
          "height": 531
        },
        "id": "w1A0rsTh4g_2",
        "outputId": "2c5d809a-ad0b-4433-e02c-37abeea66331"
      },
      "execution_count": 89,
      "outputs": [
        {
          "output_type": "execute_result",
          "data": {
            "text/plain": [
              "<matplotlib.axes._subplots.AxesSubplot at 0x7fbd429976d0>"
            ]
          },
          "metadata": {},
          "execution_count": 89
        },
        {
          "output_type": "display_data",
          "data": {
            "image/png": "[encoded data removed]",
            "text/plain": [
              "<Figure size 1224x576 with 1 Axes>"
            ]
          },
          "metadata": {
            "needs_background": "light"
          }
        }
      ]
    },
    {
      "cell_type": "markdown",
      "source": [
        "# **2. Understanding what type content is available in different countries**"
      ],
      "metadata": {
        "id": "FE7z_iCs4hrt"
      }
    },
    {
      "cell_type": "code",
      "source": [
        "m_s_groups = netflix.groupby([\"title\", \"type\", \"country\",]).apply(lambda df: df.date_added) #Returns Pandas Series with movie / series title and original index\n",
        "m_s_groups.head(40)"
      ],
      "metadata": {
        "colab": {
          "base_uri": "https://localhost:8080/"
        },
        "id": "BqzXTgAZ4k--",
        "outputId": "3d921bd2-801a-4251-a659-6d87adbac087"
      },
      "execution_count": 90,
      "outputs": [
        {
          "output_type": "execute_result",
          "data": {
            "text/plain": [
              "title                                  type   country                        \n",
              "#Alive                                 Movie  South Korea                  27     September 8, 2020\n",
              "#AnneFrank - Parallel Stories          Movie  Italy                        28          July 1, 2020\n",
              "#FriendButMarried                      Movie  Indonesia                    31          May 21, 2020\n",
              "#FriendButMarried 2                    Movie  Indonesia                    32         June 28, 2020\n",
              "#Roxy                                  Movie  Canada                       34        April 10, 2019\n",
              "#Selfie                                Movie  Romania                      36          June 1, 2019\n",
              "#Selfie 69                             Movie  Romania                      37          June 1, 2019\n",
              "#realityhigh                           Movie  United States                33     September 8, 2017\n",
              "1 Chance 2 Dance                       Movie  United States                46          July 1, 2017\n",
              "1 Mile to You                          Movie  United States                47          July 7, 2017\n",
              "10 Days in Sun City                    Movie  South Africa, Nigeria        48      October 18, 2019\n",
              "10 jours en or                         Movie  France                       49          July 1, 2017\n",
              "10,000 B.C.                            Movie  United States, South Africa  50          June 1, 2019\n",
              "100 Meters                             Movie  Portugal, Spain              54        March 10, 2017\n",
              "100% Halal                             Movie  Indonesia                    57       January 7, 2021\n",
              "1000 Rupee Note                        Movie  India                        59      December 1, 2016\n",
              "12 ROUND GUN                           Movie  United States                60        March 14, 2019\n",
              "122                                    Movie  Egypt                        6           June 1, 2020\n",
              "13 Cameras                             Movie  United States                62       August 13, 2016\n",
              "13 Sins                                Movie  United States                65      January 13, 2019\n",
              "14 Blades                              Movie  Hong Kong, China, Singapore  68         April 3, 2019\n",
              "14 Cameras                             Movie  United States                69      October 27, 2018\n",
              "15-Aug                                 Movie  India                        18        March 29, 2019\n",
              "16 Blocks                              Movie  United States, Germany       71      November 1, 2019\n",
              "17 Again                               Movie  United States                72       January 1, 2021\n",
              "18 Presents                            Movie  Italy                        73           May 8, 2020\n",
              "187                                    Movie  United States                7       November 1, 2019\n",
              "1898: Our Last Men in the Philippines  Movie  Spain                        74          June 2, 2017\n",
              "1920                                   Movie  India                        9      December 15, 2017\n",
              "1922                                   Movie  United States                10      October 20, 2017\n",
              "1BR                                    Movie  United States                75       August 23, 2020\n",
              "1st Summoning                          Movie  United States                76         July 26, 2019\n",
              "2 Alone in Paris                       Movie  France                       77          June 1, 2020\n",
              "2 States                               Movie  India                        78        August 4, 2018\n",
              "2,215                                  Movie  Thailand                     13         March 1, 2019\n",
              "20 Feet From Stardom                   Movie  United States                79    September 22, 2018\n",
              "2036 Origin Unknown                    Movie  United Kingdom               82     December 20, 2018\n",
              "20th Century Women                     Movie  United States                83         June 28, 2019\n",
              "21                                     Movie  United States                4        January 1, 2020\n",
              "21 & Over                              Movie  United States                84        April 16, 2019\n",
              "Name: date_added, dtype: object"
            ]
          },
          "metadata": {},
          "execution_count": 90
        }
      ]
    },
    {
      "cell_type": "markdown",
      "source": [
        "# **3. Is Netflix has increasingly focusing on TV rather than movies in recent years.**"
      ],
      "metadata": {
        "id": "5T87z78Y5Gng"
      }
    },
    {
      "cell_type": "markdown",
      "source": [
        "**Actual Release year of the movie / show**"
      ],
      "metadata": {
        "id": "L-RLDHf_5Jyv"
      }
    },
    {
      "cell_type": "code",
      "source": [
        "#Define displayed years:\n",
        "years= list(range(2008,2021,1))\n",
        "\n",
        "#separate movies and tv_shows:\n",
        "movie_rows = netflix.loc[netflix[\"type\"] == \"Movie\"]\n",
        "tv_rows = netflix.loc[netflix[\"type\"] == \"TV Show\"]\n",
        "\n",
        "#Count movies / tv shows per year\n",
        "movies_counts = movie_rows.release_year.value_counts()\n",
        "tv_counts = tv_rows.release_year.value_counts()\n",
        "\n",
        "index_years_mov = movies_counts.index.isin(years)\n",
        "index_years_tv = tv_counts.index.isin(years)\n",
        "\n",
        "#select movies / tv shows between chosen years:\n",
        "movies = movies_counts[index_years_mov]\n",
        "tv_shows = tv_counts[index_years_tv]"
      ],
      "metadata": {
        "id": "SO0eSE9h4lF7"
      },
      "execution_count": 91,
      "outputs": []
    },
    {
      "cell_type": "code",
      "source": [
        "# Set up the matplotlib figure\n",
        "plt.subplots(figsize=(7,7), sharex=False) \n",
        "plt.xlabel(\"Released Year\")\n",
        "plt.ylabel(\"counts\")\n",
        "plt.title(\"Type of content\")      \n",
        "#Line plot of Movies and TV Shows released by Netflix per year\")\n",
        "sns.lineplot(data=movies, color=\"b\", label=\"Movies / year\")\n",
        "sns.lineplot(data=tv_shows,color=\"y\",  label=\"TV Shows / year\")"
      ],
      "metadata": {
        "colab": {
          "base_uri": "https://localhost:8080/",
          "height": 475
        },
        "id": "GEvfKeWg5Ol8",
        "outputId": "796fd10f-a0c8-4cfc-e0e2-8eddb2622b44"
      },
      "execution_count": 92,
      "outputs": [
        {
          "output_type": "execute_result",
          "data": {
            "text/plain": [
              "<matplotlib.axes._subplots.AxesSubplot at 0x7fbd43c93510>"
            ]
          },
          "metadata": {},
          "execution_count": 92
        },
        {
          "output_type": "display_data",
          "data": {
            "image/png": "[encoded data removed]",
            "text/plain": [
              "<Figure size 504x504 with 1 Axes>"
            ]
          },
          "metadata": {
            "needs_background": "light"
          }
        }
      ]
    },
    {
      "cell_type": "markdown",
      "source": [
        "**Date it was added on Netflix**"
      ],
      "metadata": {
        "id": "GYzlnxdH5RFr"
      }
    },
    {
      "cell_type": "code",
      "source": [
        "#Define displayed years:\n",
        "years= list(range(2018,2021,1))\n",
        "\n",
        "#separate movies and tv_shows:\n",
        "movie_rows = netflix.loc[netflix[\"type\"] == \"Movie\"]\n",
        "tv_rows = netflix.loc[netflix[\"type\"] == \"TV Show\"]\n",
        "\n",
        "#Count movies / tv shows per year\n",
        "movies_counts = movie_rows.Year.value_counts()\n",
        "tv_counts = tv_rows.Year.value_counts()\n",
        "\n",
        "index_years_mov = movies_counts.index.isin(years)\n",
        "index_years_tv = tv_counts.index.isin(years)\n",
        "\n",
        "#select movies / tv shows between chosen years:\n",
        "movies = movies_counts[index_years_mov]\n",
        "tv_shows = tv_counts[index_years_tv]"
      ],
      "metadata": {
        "id": "UvGhHi0h5PD2"
      },
      "execution_count": 93,
      "outputs": []
    },
    {
      "cell_type": "code",
      "source": [
        "# Set up the matplotlib figure\n",
        "plt.subplots(figsize=(7,7), sharex=False) \n",
        "plt.xlabel(\"Released Year\")\n",
        "plt.ylabel(\"counts\")\n",
        "plt.title(\"Type of content\")      \n",
        "#Line plot of Movies and TV Shows released by Netflix per year\")\n",
        "sns.lineplot(data=movies, color=\"b\", label=\"Movies / year\")\n",
        "sns.lineplot(data=tv_shows,color=\"y\",  label=\"TV Shows / year\")"
      ],
      "metadata": {
        "colab": {
          "base_uri": "https://localhost:8080/",
          "height": 475
        },
        "id": "bA9uvOx85PHH",
        "outputId": "a0a50dfa-0b44-4f17-fc4f-75ed4da666af"
      },
      "execution_count": 94,
      "outputs": [
        {
          "output_type": "execute_result",
          "data": {
            "text/plain": [
              "<matplotlib.axes._subplots.AxesSubplot at 0x7fbd428ced50>"
            ]
          },
          "metadata": {},
          "execution_count": 94
        },
        {
          "output_type": "display_data",
          "data": {
            "image/png": "[encoded data removed]",
            "text/plain": [
              "<Figure size 504x504 with 1 Axes>"
            ]
          },
          "metadata": {
            "needs_background": "light"
          }
        }
      ]
    },
    {
      "cell_type": "markdown",
      "source": [
        "## **Hypothesis from the data visualized**\n",
        "\n",
        "**1. From above visualization we can say that netflix is not added that number of TV shows/Movies than already launched in last decade.**"
      ],
      "metadata": {
        "id": "8bk-_AqpqcuB"
      }
    },
    {
      "cell_type": "markdown",
      "source": [
        "# **4. Clustering similar content by matching text-based features**"
      ],
      "metadata": {
        "id": "H7DxFIs-5h_9"
      }
    },
    {
      "cell_type": "code",
      "source": [
        "netflix['listed_in'].value_counts()\n",
        "netflix['listed_in'].value_counts().size\n",
        "#Too much classes, we just obtain the first 50 (the most common 50)\n",
        "content_type=netflix['listed_in'].value_counts().iloc[0:50]\n",
        "\n",
        "#We do some feature enginearing \n",
        "#Unify some of the similiar types by the \"strongest wins\" criterium:\n",
        "#We dont need to diferenciate between international series, or TV/Movies dramas, we have other columns to do so\n",
        "\n",
        "netflix=netflix.replace({'listed_in': 'Dramas, Independent Movies, International Movies'}, {'listed_in': 'Dramas'},regex=True)\n",
        "netflix=netflix.replace({'listed_in': 'Dramas, International Movies'}, {'listed_in': 'Dramas'},regex=True)\n",
        "netflix=netflix.replace({'listed_in': 'Dramas, Independent Movies'}, {'listed_in': 'Dramas'},regex=True)\n",
        "netflix=netflix.replace({'listed_in': 'TV Dramas'}, {'listed_in': 'Dramas'},regex=True)\n",
        "netflix=netflix.replace({'listed_in': 'International TV Shows, TV Dramas'}, {'listed_in': 'Dramas'},regex=True)\n",
        "\n",
        "#For documentaries\n",
        "netflix=netflix.replace({'listed_in':'Documentaries, International Movies'}, {'listed_in': 'Documentaries'},regex=True) \n",
        "\n",
        "#For horror movies\n",
        "netflix=netflix.replace({'listed_in':'Horror Movies, International Movies,'}, {'listed_in': 'Horror Movies'},regex=True)\n",
        "netflix=netflix.replace({'listed_in':'Horror Movies, Thrillers'}, {'listed_in': 'Horror Movies'},regex=True)\n",
        "\n",
        "#Thrillers\n",
        "netflix=netflix.replace({'listed_in':'Dramas, Thrillers'}, {'listed_in': 'Thrillers'},regex=True)\n",
        "netflix=netflix.replace({'listed_in':'International Movies, Thrillers'}, {'listed_in': 'Thrillers'},regex=True)\n",
        "\n",
        "#Action\n",
        "netflix=netflix.replace({'listed_in':'Action & Adventure, International Movies '}, {'listed_in': 'Action & Adventure'},regex=True)\n",
        "netflix=netflix.replace({'listed_in':'Action & Adventure, Dramas'}, {'listed_in': 'Action & Adventure'},regex=True)\n",
        "\n",
        "#Comedies in 3 groups: comedies, drama/comedies and romantic/comedies\n",
        "netflix=netflix.replace({'listed_in':'Stand-Up Comedy'}, {'listed_in': 'Comedies'},regex=True)\n",
        "netflix=netflix.replace({'listed_in':'Action & Adventure, Comedies, International Movies'}, {'listed_in': 'Comedies'},regex=True)\n",
        "netflix=netflix.replace({'listed_in':'TV Comedies'}, {'listed_in': 'Comedies'},regex=True)\n",
        "netflix=netflix.replace({'listed_in':'Comedies, International Movies'}, {'listed_in': 'Comedies'},regex=True)\n",
        "netflix=netflix.replace({'listed_in':'Comedies, Dramas, Independent Movies'}, {'listed_in': 'Comedies, Dramas'},regex=True)\n",
        "netflix=netflix.replace({'listed_in':'Comedies, International Movies, Romantic Movies'}, {'listed_in': 'Comedies, Romantic Movies'},regex=True)\n",
        "\n",
        "#Kids TV all in one\n",
        "netflix=netflix.replace({'listed_in': \"Kids' TV, TV Comedies\"}, {'listed_in': \"Kids' TV\"},regex=True)\n",
        "netflix=netflix.replace({'listed_in': \"Kids' TV, Comedies\"}, {'listed_in': \"Kids' TV\"},regex=True)\n",
        "netflix=netflix.replace({'listed_in': \"Children & Family Movies, Comedies\"}, {'listed_in': \"Children & Family Movies\"},regex=True)\n",
        "\n",
        "\n",
        "#We have to delete the instances with listed_in: Movies. They dont give information and wont be useful in future\n",
        "netflix=netflix[netflix['listed_in'] != 'Movies']\n",
        "\n",
        "content_type=netflix['listed_in'].value_counts().iloc[0:50]"
      ],
      "metadata": {
        "id": "cDLkcUQg5kT9"
      },
      "execution_count": 95,
      "outputs": []
    },
    {
      "cell_type": "code",
      "source": [
        "#We delete some features, we prepare the df to feed the clustering algorithms.\n",
        "\n",
        "netflix=netflix.dropna(axis=0)\n",
        "netflix.drop(netflix.iloc[:,[0,2,4,6,8,9,11,12,14,15]],axis=1,inplace=True)\n",
        "\n",
        "#Form a full numerical valued dataset:\n",
        "# Type\n",
        "netflix['type']=netflix['type'].astype('category')\n",
        "d1 = dict(enumerate(netflix['type'].cat.categories)) #To save old values\n",
        "netflix['type']=netflix['type'].cat.codes\n",
        "\n",
        "#Director\n",
        "netflix['director']=netflix['director'].astype('category')\n",
        "d2 = dict(enumerate(netflix['director'].cat.categories)) #To save old values\n",
        "netflix['director']=netflix['director'].cat.codes\n",
        "\n",
        "#Country\n",
        "netflix['country']=netflix['country'].astype('category')\n",
        "d3 = dict(enumerate(netflix['country'].cat.categories)) #To save old values\n",
        "netflix['country']=netflix['country'].cat.codes\n",
        "\n",
        "# Listed_in\n",
        "netflix['listed_in']=netflix['listed_in'].astype('category')\n",
        "d4= dict(enumerate(netflix['listed_in'].cat.categories)) #To save old values\n",
        "netflix['listed_in']=netflix['listed_in'].cat.codes\n",
        "\n",
        "netflix.head()"
      ],
      "metadata": {
        "colab": {
          "base_uri": "https://localhost:8080/",
          "height": 206
        },
        "id": "rqn6unBm7cFS",
        "outputId": "e691efac-bff3-448a-9353-f72e3ca8a9cb"
      },
      "execution_count": 96,
      "outputs": [
        {
          "output_type": "execute_result",
          "data": {
            "text/html": [
              "<div>\n",
              "<style scoped>\n",
              "    .dataframe tbody tr th:only-of-type {\n",
              "        vertical-align: middle;\n",
              "    }\n",
              "\n",
              "    .dataframe tbody tr th {\n",
              "        vertical-align: top;\n",
              "    }\n",
              "\n",
              "    .dataframe thead th {\n",
              "        text-align: right;\n",
              "    }\n",
              "</style>\n",
              "<table border=\"1\" class=\"dataframe\">\n",
              "  <thead>\n",
              "    <tr style=\"text-align: right;\">\n",
              "      <th></th>\n",
              "      <th>type</th>\n",
              "      <th>director</th>\n",
              "      <th>country</th>\n",
              "      <th>release_year</th>\n",
              "      <th>listed_in</th>\n",
              "      <th>Year</th>\n",
              "    </tr>\n",
              "  </thead>\n",
              "  <tbody>\n",
              "    <tr>\n",
              "      <th>1</th>\n",
              "      <td>0</td>\n",
              "      <td>1629</td>\n",
              "      <td>239</td>\n",
              "      <td>2016</td>\n",
              "      <td>184</td>\n",
              "      <td>2016</td>\n",
              "    </tr>\n",
              "    <tr>\n",
              "      <th>2</th>\n",
              "      <td>0</td>\n",
              "      <td>1136</td>\n",
              "      <td>295</td>\n",
              "      <td>2011</td>\n",
              "      <td>213</td>\n",
              "      <td>2018</td>\n",
              "    </tr>\n",
              "    <tr>\n",
              "      <th>3</th>\n",
              "      <td>0</td>\n",
              "      <td>3059</td>\n",
              "      <td>439</td>\n",
              "      <td>2009</td>\n",
              "      <td>39</td>\n",
              "      <td>2017</td>\n",
              "    </tr>\n",
              "    <tr>\n",
              "      <th>4</th>\n",
              "      <td>0</td>\n",
              "      <td>2812</td>\n",
              "      <td>439</td>\n",
              "      <td>2008</td>\n",
              "      <td>184</td>\n",
              "      <td>2020</td>\n",
              "    </tr>\n",
              "    <tr>\n",
              "      <th>5</th>\n",
              "      <td>1</td>\n",
              "      <td>3035</td>\n",
              "      <td>356</td>\n",
              "      <td>2016</td>\n",
              "      <td>234</td>\n",
              "      <td>2017</td>\n",
              "    </tr>\n",
              "  </tbody>\n",
              "</table>\n",
              "</div>"
            ],
            "text/plain": [
              "   type  director  country  release_year  listed_in  Year\n",
              "1     0      1629      239          2016        184  2016\n",
              "2     0      1136      295          2011        213  2018\n",
              "3     0      3059      439          2009         39  2017\n",
              "4     0      2812      439          2008        184  2020\n",
              "5     1      3035      356          2016        234  2017"
            ]
          },
          "metadata": {},
          "execution_count": 96
        }
      ]
    },
    {
      "cell_type": "markdown",
      "source": [
        "## **Corelation Heatmap**"
      ],
      "metadata": {
        "id": "UmhxFYlDrEMV"
      }
    },
    {
      "cell_type": "code",
      "source": [
        "netflix.corr()"
      ],
      "metadata": {
        "colab": {
          "base_uri": "https://localhost:8080/",
          "height": 238
        },
        "id": "K1EXbtvbrDx-",
        "outputId": "e18ddd08-7207-4e12-e96a-8f9a31e25640"
      },
      "execution_count": 97,
      "outputs": [
        {
          "output_type": "execute_result",
          "data": {
            "text/html": [
              "<div>\n",
              "<style scoped>\n",
              "    .dataframe tbody tr th:only-of-type {\n",
              "        vertical-align: middle;\n",
              "    }\n",
              "\n",
              "    .dataframe tbody tr th {\n",
              "        vertical-align: top;\n",
              "    }\n",
              "\n",
              "    .dataframe thead th {\n",
              "        text-align: right;\n",
              "    }\n",
              "</style>\n",
              "<table border=\"1\" class=\"dataframe\">\n",
              "  <thead>\n",
              "    <tr style=\"text-align: right;\">\n",
              "      <th></th>\n",
              "      <th>type</th>\n",
              "      <th>director</th>\n",
              "      <th>country</th>\n",
              "      <th>release_year</th>\n",
              "      <th>listed_in</th>\n",
              "      <th>Year</th>\n",
              "    </tr>\n",
              "  </thead>\n",
              "  <tbody>\n",
              "    <tr>\n",
              "      <th>type</th>\n",
              "      <td>1.000000</td>\n",
              "      <td>-0.002961</td>\n",
              "      <td>-0.002018</td>\n",
              "      <td>0.076037</td>\n",
              "      <td>0.075448</td>\n",
              "      <td>0.016523</td>\n",
              "    </tr>\n",
              "    <tr>\n",
              "      <th>director</th>\n",
              "      <td>-0.002961</td>\n",
              "      <td>1.000000</td>\n",
              "      <td>-0.032688</td>\n",
              "      <td>-0.053474</td>\n",
              "      <td>-0.062498</td>\n",
              "      <td>0.027603</td>\n",
              "    </tr>\n",
              "    <tr>\n",
              "      <th>country</th>\n",
              "      <td>-0.002018</td>\n",
              "      <td>-0.032688</td>\n",
              "      <td>1.000000</td>\n",
              "      <td>-0.041902</td>\n",
              "      <td>-0.040678</td>\n",
              "      <td>0.000068</td>\n",
              "    </tr>\n",
              "    <tr>\n",
              "      <th>release_year</th>\n",
              "      <td>0.076037</td>\n",
              "      <td>-0.053474</td>\n",
              "      <td>-0.041902</td>\n",
              "      <td>1.000000</td>\n",
              "      <td>0.171949</td>\n",
              "      <td>0.018389</td>\n",
              "    </tr>\n",
              "    <tr>\n",
              "      <th>listed_in</th>\n",
              "      <td>0.075448</td>\n",
              "      <td>-0.062498</td>\n",
              "      <td>-0.040678</td>\n",
              "      <td>0.171949</td>\n",
              "      <td>1.000000</td>\n",
              "      <td>-0.016250</td>\n",
              "    </tr>\n",
              "    <tr>\n",
              "      <th>Year</th>\n",
              "      <td>0.016523</td>\n",
              "      <td>0.027603</td>\n",
              "      <td>0.000068</td>\n",
              "      <td>0.018389</td>\n",
              "      <td>-0.016250</td>\n",
              "      <td>1.000000</td>\n",
              "    </tr>\n",
              "  </tbody>\n",
              "</table>\n",
              "</div>"
            ],
            "text/plain": [
              "                  type  director   country  release_year  listed_in      Year\n",
              "type          1.000000 -0.002961 -0.002018      0.076037   0.075448  0.016523\n",
              "director     -0.002961  1.000000 -0.032688     -0.053474  -0.062498  0.027603\n",
              "country      -0.002018 -0.032688  1.000000     -0.041902  -0.040678  0.000068\n",
              "release_year  0.076037 -0.053474 -0.041902      1.000000   0.171949  0.018389\n",
              "listed_in     0.075448 -0.062498 -0.040678      0.171949   1.000000 -0.016250\n",
              "Year          0.016523  0.027603  0.000068      0.018389  -0.016250  1.000000"
            ]
          },
          "metadata": {},
          "execution_count": 97
        }
      ]
    },
    {
      "cell_type": "code",
      "source": [
        "#visualization of the correlation in the heatmap\n",
        "plt.figure(figsize=(13, 6))\n",
        "sns.heatmap(netflix.corr(), annot=True)\n",
        "plt.title('Correlation between all the vaibles', size=16)\n",
        "plt.show()"
      ],
      "metadata": {
        "colab": {
          "base_uri": "https://localhost:8080/",
          "height": 393
        },
        "id": "BPMfFRGzrH4m",
        "outputId": "5c40ea4c-6878-4175-d3a6-4b2acd9e880b"
      },
      "execution_count": 98,
      "outputs": [
        {
          "output_type": "display_data",
          "data": {
            "image/png": "[encoded data removed]",
            "text/plain": [
              "<Figure size 936x432 with 2 Axes>"
            ]
          },
          "metadata": {
            "needs_background": "light"
          }
        }
      ]
    },
    {
      "cell_type": "markdown",
      "source": [
        "**Importing required libraries for clustering**"
      ],
      "metadata": {
        "id": "9ojxaCV6rSAY"
      }
    },
    {
      "cell_type": "code",
      "source": [
        "import seaborn as sns\n",
        "import matplotlib.cm as cm\n",
        "from sklearn.preprocessing import StandardScaler\n",
        "from sklearn.decomposition import PCA\n",
        "from scipy.cluster.hierarchy import linkage, dendrogram\n",
        "from sklearn.cluster import AgglomerativeClustering\n",
        "from sklearn.datasets import make_blobs\n",
        "from sklearn.cluster import KMeans\n",
        "import numpy as np\n",
        "from sklearn.metrics import silhouette_samples, silhouette_score"
      ],
      "metadata": {
        "id": "K-bel2DrrTN1"
      },
      "execution_count": 99,
      "outputs": []
    },
    {
      "cell_type": "markdown",
      "source": [
        "## **Clusters Model Implementation**\n",
        "\n",
        "**1. Affinity Propagation**\n",
        "\n",
        "**2. Agglomerative Clustering** \n",
        "\n",
        "**3. K-means Clustering**"
      ],
      "metadata": {
        "id": "T6DRAC2GrYgt"
      }
    },
    {
      "cell_type": "markdown",
      "source": [
        "## **1. Affinity Propagation**"
      ],
      "metadata": {
        "id": "n4_mcFPKrwx1"
      }
    },
    {
      "cell_type": "code",
      "source": [
        "from sklearn.cluster import AffinityPropagation\n",
        "from sklearn import metrics\n",
        "\n",
        "af = AffinityPropagation(preference=-753,damping=0.60,verbose=True,random_state=0).fit(netflix_standarized) #Using euclidean distance as affinity estimator\n",
        "#af = AffinityPropagation(damping=0.97,affinity='euclidean',verbose=True).fit(netflix) #Using euclidean distance\n",
        "cluster_centers_indices = af.cluster_centers_indices_\n",
        "labels = af.labels_\n",
        "\n",
        "n_clusters_ = len(cluster_centers_indices)\n",
        "\n",
        "print('Estimated number of clusters: %d' % n_clusters_)\n",
        "#print(\"Silhouette Coefficient: %0.3f\" % metrics.silhouette_score(netflix_standarized, labels, metric='sqeuclidean'))"
      ],
      "metadata": {
        "colab": {
          "base_uri": "https://localhost:8080/"
        },
        "id": "wqptL-6gr070",
        "outputId": "9b940c59-7a6b-40cc-b5cc-282b94e447f9"
      },
      "execution_count": 100,
      "outputs": [
        {
          "output_type": "stream",
          "name": "stdout",
          "text": [
            "Converged after 123 iterations.\n",
            "Estimated number of clusters: 9\n"
          ]
        }
      ]
    },
    {
      "cell_type": "code",
      "source": [
        "colors = cm.nipy_spectral(labels.astype(float) / n_clusters_)\n",
        "ax=plt.gca()\n",
        "plt.scatter(netflix_pca[0], netflix_pca[1], c=colors)\n",
        "ax.set_title(\"The visualization of the clustered data.\")\n",
        "ax.set_xlabel(\"PCA component 1\")\n",
        "ax.set_ylabel(\"PCA component 2\")"
      ],
      "metadata": {
        "colab": {
          "base_uri": "https://localhost:8080/",
          "height": 312
        },
        "id": "aiG29zq1sHd_",
        "outputId": "eaa82adc-6a22-4870-9282-400101bfa2a4"
      },
      "execution_count": 101,
      "outputs": [
        {
          "output_type": "execute_result",
          "data": {
            "text/plain": [
              "Text(0, 0.5, 'PCA component 2')"
            ]
          },
          "metadata": {},
          "execution_count": 101
        },
        {
          "output_type": "display_data",
          "data": {
            "image/png": "[encoded data removed]",
            "text/plain": [
              "<Figure size 288x288 with 1 Axes>"
            ]
          },
          "metadata": {
            "needs_background": "light"
          }
        }
      ]
    },
    {
      "cell_type": "code",
      "source": [
        "print(\"Silhouette Coefficient: %0.3f\" % metrics.silhouette_score(netflix_standarized, labels, metric='sqeuclidean'))"
      ],
      "metadata": {
        "colab": {
          "base_uri": "https://localhost:8080/"
        },
        "id": "VVl9YpjlsNGf",
        "outputId": "bcce9cb3-6ae1-4d60-de32-dc26cf851ea5"
      },
      "execution_count": 102,
      "outputs": [
        {
          "output_type": "stream",
          "name": "stdout",
          "text": [
            "Silhouette Coefficient: 0.308\n"
          ]
        }
      ]
    },
    {
      "cell_type": "markdown",
      "source": [
        "## **2. Agglomerative Clustering**"
      ],
      "metadata": {
        "id": "EaIjr5ensQ7k"
      }
    },
    {
      "cell_type": "markdown",
      "source": [
        "## **3. k-means clustering**"
      ],
      "metadata": {
        "id": "sVAkRndDRhGg"
      }
    }
  ]
}